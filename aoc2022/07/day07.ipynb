{
 "cells": [
  {
   "cell_type": "code",
   "execution_count": 2,
   "metadata": {},
   "outputs": [],
   "source": [
    "# task1: tree search \n",
    "# task2: parsing\n",
    "# task3: summing up"
   ]
  },
  {
   "cell_type": "code",
   "execution_count": 3,
   "metadata": {},
   "outputs": [],
   "source": [
    "example_input=\"\"\"$ cd /\n",
    "$ ls\n",
    "dir a\n",
    "14848514 b.txt\n",
    "8504156 c.dat\n",
    "dir d\n",
    "$ cd a\n",
    "$ ls\n",
    "dir e\n",
    "29116 f\n",
    "2557 g\n",
    "62596 h.lst\n",
    "$ cd e\n",
    "$ ls\n",
    "584 i\n",
    "$ cd ..\n",
    "$ cd ..\n",
    "$ cd d\n",
    "$ ls\n",
    "4060174 j\n",
    "8033020 d.log\n",
    "5626152 d.ext\n",
    "7214296 k\"\"\""
   ]
  },
  {
   "cell_type": "code",
   "execution_count": 151,
   "metadata": {},
   "outputs": [],
   "source": [
    "from typing import MutableMapping\n",
    "def parse_text(tree: MutableMapping, text: list[str]):\n",
    "    current_position = [\"/\"]\n",
    "    def parse_command(c:str, *args):\n",
    "        match c:\n",
    "            case \"ls\":\n",
    "                return\n",
    "            case \"cd\":\n",
    "                if args[0][0] == \"..\":\n",
    "                    current_position.pop()\n",
    "                else:\n",
    "                    current_position.append(args[0][0])\n",
    "        \n",
    "    def parse_dir(name:str):\n",
    "        sub_tree = index_tree(tree, current_position)\n",
    "        # key = tuple(current_position) + (name,)\n",
    "        if not name in sub_tree:\n",
    "            tree[name]\n",
    "\n",
    "\n",
    "    def parse_file(name:str, size:int):\n",
    "        sub_tree = index_tree(tree, current_position)\n",
    "        # key = tuple(current_position) + (name,)\n",
    "        if not name in sub_tree:\n",
    "            tree[name] = size\n",
    "\n",
    "    for line in text:\n",
    "        match line.strip().split():\n",
    "            case [\"$\", cmd, *args]:\n",
    "                parse_command(cmd, args)\n",
    "            case [\"dir\", dir_name]:\n",
    "                parse_dir(dir_name)\n",
    "            case [size, name]:\n",
    "                parse_file(name, size)\n",
    "    return tree"
   ]
  },
  {
   "cell_type": "code",
   "execution_count": 152,
   "metadata": {},
   "outputs": [
    {
     "data": {
      "text/plain": [
       "defaultdict(<function __main__.tree()>, {})"
      ]
     },
     "execution_count": 152,
     "metadata": {},
     "output_type": "execute_result"
    }
   ],
   "source": [
    "from collections import defaultdict\n",
    "def tree(): return defaultdict(tree)\n",
    "ft = tree()\n",
    "ft[\"/\"]"
   ]
  },
  {
   "cell_type": "code",
   "execution_count": 155,
   "metadata": {},
   "outputs": [],
   "source": [
    "def index_tree(tree: dict, keys: list[str]):\n",
    "    _t = tree\n",
    "    for key in keys:\n",
    "        if key in _t:\n",
    "            _t = _t[key]\n",
    "        else:\n",
    "            return _t\n",
    "    return _t"
   ]
  },
  {
   "cell_type": "code",
   "execution_count": 154,
   "metadata": {},
   "outputs": [
    {
     "name": "stdout",
     "output_type": "stream",
     "text": [
      "/ defaultdict(<function tree at 0x7f1c6a84f520>, {'/': defaultdict(<function tree at 0x7f1c6a84f520>, {})})\n",
      "/ defaultdict(<function tree at 0x7f1c6a84f520>, {})\n",
      "/ defaultdict(<function tree at 0x7f1c6a84f520>, {'/': defaultdict(<function tree at 0x7f1c6a84f520>, {}), 'a': defaultdict(<function tree at 0x7f1c6a84f520>, {})})\n",
      "/ defaultdict(<function tree at 0x7f1c6a84f520>, {})\n",
      "/ defaultdict(<function tree at 0x7f1c6a84f520>, {'/': defaultdict(<function tree at 0x7f1c6a84f520>, {}), 'a': defaultdict(<function tree at 0x7f1c6a84f520>, {}), 'b.txt': '14848514'})\n",
      "/ defaultdict(<function tree at 0x7f1c6a84f520>, {})\n",
      "/ defaultdict(<function tree at 0x7f1c6a84f520>, {'/': defaultdict(<function tree at 0x7f1c6a84f520>, {}), 'a': defaultdict(<function tree at 0x7f1c6a84f520>, {}), 'b.txt': '14848514', 'c.dat': '8504156'})\n",
      "/ defaultdict(<function tree at 0x7f1c6a84f520>, {})\n",
      "/ defaultdict(<function tree at 0x7f1c6a84f520>, {'/': defaultdict(<function tree at 0x7f1c6a84f520>, {}), 'a': defaultdict(<function tree at 0x7f1c6a84f520>, {}), 'b.txt': '14848514', 'c.dat': '8504156', 'd': defaultdict(<function tree at 0x7f1c6a84f520>, {})})\n",
      "/ defaultdict(<function tree at 0x7f1c6a84f520>, {})\n"
     ]
    },
    {
     "data": {
      "text/plain": [
       "defaultdict(<function __main__.tree()>,\n",
       "            {'/': defaultdict(<function __main__.tree()>, {}),\n",
       "             'a': defaultdict(<function __main__.tree()>, {}),\n",
       "             'b.txt': '14848514',\n",
       "             'c.dat': '8504156',\n",
       "             'd': defaultdict(<function __main__.tree()>, {}),\n",
       "             'e': defaultdict(<function __main__.tree()>, {})})"
      ]
     },
     "execution_count": 154,
     "metadata": {},
     "output_type": "execute_result"
    }
   ],
   "source": [
    "parse_text(ft, example_input.splitlines()[:9])"
   ]
  },
  {
   "cell_type": "markdown",
   "metadata": {},
   "source": [
    "well, that wasn't so smart.."
   ]
  },
  {
   "cell_type": "code",
   "execution_count": null,
   "metadata": {},
   "outputs": [],
   "source": []
  },
  {
   "cell_type": "code",
   "execution_count": 82,
   "metadata": {},
   "outputs": [],
   "source": [
    "#todo: parse tuple-indexed dict into nested dict"
   ]
  },
  {
   "cell_type": "code",
   "execution_count": 78,
   "metadata": {},
   "outputs": [
    {
     "data": {
      "text/plain": [
       "('/', 'a')"
      ]
     },
     "execution_count": 78,
     "metadata": {},
     "output_type": "execute_result"
    }
   ],
   "source": [
    "k = next(iter(ft.keys()))\n",
    "k"
   ]
  },
  {
   "cell_type": "code",
   "execution_count": 80,
   "metadata": {},
   "outputs": [
    {
     "data": {
      "text/plain": [
       "2"
      ]
     },
     "execution_count": 80,
     "metadata": {},
     "output_type": "execute_result"
    }
   ],
   "source": [
    "len(k)"
   ]
  },
  {
   "cell_type": "code",
   "execution_count": null,
   "metadata": {},
   "outputs": [],
   "source": [
    "def parse_tree(tree: dict):\n",
    "    for k in tree.keys():\n",
    "        k: tuple"
   ]
  }
 ],
 "metadata": {
  "kernelspec": {
   "display_name": "Python 3.10.4 64-bit",
   "language": "python",
   "name": "python3"
  },
  "language_info": {
   "codemirror_mode": {
    "name": "ipython",
    "version": 3
   },
   "file_extension": ".py",
   "mimetype": "text/x-python",
   "name": "python",
   "nbconvert_exporter": "python",
   "pygments_lexer": "ipython3",
   "version": "3.10.4"
  },
  "orig_nbformat": 4,
  "vscode": {
   "interpreter": {
    "hash": "3ad933181bd8a04b432d3370b9dc3b0662ad032c4dfaa4e4f1596c548f763858"
   }
  }
 },
 "nbformat": 4,
 "nbformat_minor": 2
}
