{
 "cells": [
  {
   "cell_type": "markdown",
   "metadata": {},
   "source": [
    "# Day 5: Supply Stacks\n",
    "## Part One\n",
    "\n",
    "The expedition can depart as soon as the final supplies have been unloaded from the ships. Supplies are stored in stacks of marked _crates_, but because the needed supplies are buried under many other crates, the crates need to be rearranged.\n",
    "\n",
    "The ship has a _giant cargo crane_ capable of moving crates between stacks. To ensure none of the crates get crushed or fall over, the crane operator will rearrange them in a series of carefully-planned steps. After the crates are rearranged, the desired crates will be at the top of each stack.\n",
    "\n",
    "The Elves don't want to interrupt the crane operator during this delicate procedure, but they forgot to ask her _which_ crate will end up where, and they want to be ready to unload them as soon as possible so they can embark.\n",
    "\n",
    "They do, however, have a drawing of the starting stacks of crates _and_ the rearrangement procedure (your puzzle input). For example:\n",
    "\n",
    "```\n",
    "    [D]    \n",
    "[N] [C]    \n",
    "[Z] [M] [P]\n",
    " 1   2   3 \n",
    "\n",
    "move 1 from 2 to 1\n",
    "move 3 from 1 to 3\n",
    "move 2 from 2 to 1\n",
    "move 1 from 1 to 2\n",
    "```\n",
    "\n",
    "In this example, there are three stacks of crates. Stack 1 contains two crates: crate `Z` is on the bottom, and crate `N` is on top. Stack 2 contains three crates; from bottom to top, they are crates `M`, `C`, and `D`. Finally, stack 3 contains a single crate, `P`.\n",
    "\n",
    "Then, the rearrangement procedure is given. In each step of the procedure, a quantity of crates is moved from one stack to a different stack. In the first step of the above rearrangement procedure, one crate is moved from stack 2 to stack 1, resulting in this configuration:\n",
    "\n",
    "```\n",
    "[D]        \n",
    "[N] [C]    \n",
    "[Z] [M] [P]\n",
    " 1   2   3 \n",
    "```\n",
    "\n",
    "In the second step, three crates are moved from stack 1 to stack 3. Crates are moved _one at a time_, so the first crate to be moved (`D`) ends up below the second and third crates:\n",
    "\n",
    "```\n",
    "        [Z]\n",
    "        [N]\n",
    "    [C] [D]\n",
    "    [M] [P]\n",
    " 1   2   3\n",
    "```\n",
    "\n",
    "Then, both crates are moved from stack 2 to stack 1. Again, because crates are moved _one at a time_, crate `C` ends up below crate `M`:\n",
    "\n",
    "```\n",
    "        [Z]\n",
    "        [N]\n",
    "[M]     [D]\n",
    "[C]     [P]\n",
    " 1   2   3\n",
    "```\n",
    "\n",
    "Finally, one crate is moved from stack 1 to stack 2:\n",
    "\n",
    "```\n",
    "        [Z]\n",
    "        [N]\n",
    "        [D]\n",
    "[C] [M] [P]\n",
    " 1   2   3\n",
    "```\n",
    "\n",
    "The Elves just need to know _which crate will end up on top of each stack_; in this example, the top crates are `C` in stack 1, `M` in stack 2, and `Z` in stack 3, so you should combine these together and give the Elves the message `_CMZ_`.\n",
    "\n",
    "_After the rearrangement procedure completes, what crate ends up on top of each stack?_"
   ]
  },
  {
   "cell_type": "markdown",
   "metadata": {},
   "source": [
    "### Functions"
   ]
  },
  {
   "cell_type": "code",
   "execution_count": 1,
   "metadata": {},
   "outputs": [],
   "source": [
    "def parse_movements(fn: str, no_header_lines: int) -> list[tuple[int,int,int]]:\n",
    "    def parse_move(line: str) -> tuple[int,int,int]:\n",
    "        # move N from X to Y\n",
    "        elems = line.split()\n",
    "        n,x,y = int(elems[1]), int(elems[3]), int(elems[5])\n",
    "        return n,x,y\n",
    "\n",
    "    with open(fn, 'r') as f:\n",
    "        input = f.readlines()\n",
    "        # skip header\n",
    "        input = input[no_header_lines:]\n",
    "        # parse movements\n",
    "        commands = [parse_move(line) for line in input]\n",
    "        return commands"
   ]
  },
  {
   "cell_type": "code",
   "execution_count": 2,
   "metadata": {},
   "outputs": [],
   "source": [
    "def print_stacks(stacks: list[list[str]]):\n",
    "    max_len = max([len(l) for l in stacks])\n",
    "    for i in reversed(range(max_len)):\n",
    "        line_items = []\n",
    "        for stack in stacks:\n",
    "            try:\n",
    "                item = stack[i]\n",
    "                line_items.append(f\"[{item}]\")\n",
    "            except IndexError:\n",
    "                line_items.append(\"   \")\n",
    "                continue\n",
    "        out_str = \" \".join(line_items)\n",
    "        print(out_str)\n",
    "    indices = list(range(1,len(stacks)+1))\n",
    "    indices = [f\" {i} \" for i in indices]\n",
    "    print(\" \".join(indices))"
   ]
  },
  {
   "cell_type": "code",
   "execution_count": 3,
   "metadata": {},
   "outputs": [],
   "source": [
    "def execute_move_fifo(stacks: list[list[str]], move: tuple[int,int,int]):\n",
    "    num, from_, to_ = move\n",
    "    # indices start at 1 so move -1\n",
    "    from_ -= 1\n",
    "    to_ -= 1\n",
    "    cache = []\n",
    "    # FIFO\n",
    "    # remove one after the other\n",
    "    for _ in range(num):\n",
    "        cache.append(stacks[from_].pop())\n",
    "    # add to new destination\n",
    "    for _ in range(len(cache)):\n",
    "        stacks[to_].append(cache.pop(0))\n",
    "    return"
   ]
  },
  {
   "cell_type": "code",
   "execution_count": 4,
   "metadata": {},
   "outputs": [],
   "source": [
    "def task1(stacks: list[list[str]]):\n",
    "    out_str = \"\".join([l.pop() for l in stacks])\n",
    "    return out_str"
   ]
  },
  {
   "cell_type": "markdown",
   "metadata": {},
   "source": [
    "### Example Input"
   ]
  },
  {
   "cell_type": "code",
   "execution_count": 5,
   "metadata": {},
   "outputs": [
    {
     "name": "stdout",
     "output_type": "stream",
     "text": [
      "    [D]    \n",
      "[N] [C]    \n",
      "[Z] [M] [P]\n",
      " 1   2   3 \n"
     ]
    }
   ],
   "source": [
    "stack1 = [\"Z\", \"N\"]\n",
    "stack2 = [\"M\", \"C\", \"D\"]\n",
    "stack3 = [\"P\"]\n",
    "all_stacks = [stack1, stack2, stack3]\n",
    "print_stacks(all_stacks)"
   ]
  },
  {
   "cell_type": "code",
   "execution_count": 6,
   "metadata": {},
   "outputs": [
    {
     "data": {
      "text/plain": [
       "[(1, 2, 1), (3, 1, 3), (2, 2, 1), (1, 1, 2)]"
      ]
     },
     "execution_count": 6,
     "metadata": {},
     "output_type": "execute_result"
    }
   ],
   "source": [
    "example_moves = parse_movements(\"./example_day05.txt\",0)\n",
    "example_moves"
   ]
  },
  {
   "cell_type": "code",
   "execution_count": 7,
   "metadata": {},
   "outputs": [
    {
     "name": "stdout",
     "output_type": "stream",
     "text": [
      "        [Z]\n",
      "        [N]\n",
      "        [D]\n",
      "[C] [M] [P]\n",
      " 1   2   3 \n"
     ]
    }
   ],
   "source": [
    "for move in example_moves:\n",
    "    execute_move_fifo(all_stacks, move)\n",
    "print_stacks(all_stacks)"
   ]
  },
  {
   "cell_type": "code",
   "execution_count": 8,
   "metadata": {},
   "outputs": [
    {
     "data": {
      "text/plain": [
       "'CMZ'"
      ]
     },
     "execution_count": 8,
     "metadata": {},
     "output_type": "execute_result"
    }
   ],
   "source": [
    "task1(all_stacks)"
   ]
  },
  {
   "cell_type": "markdown",
   "metadata": {},
   "source": [
    "### Real Input"
   ]
  },
  {
   "cell_type": "markdown",
   "metadata": {},
   "source": [
    "```\n",
    "[T]             [P]     [J]        \n",
    "[F]     [S]     [T]     [R]     [B]\n",
    "[V]     [M] [H] [S]     [F]     [R]\n",
    "[Z]     [P] [Q] [B]     [S] [W] [P]\n",
    "[C]     [Q] [R] [D] [Z] [N] [H] [Q]\n",
    "[W] [B] [T] [F] [L] [T] [M] [F] [T]\n",
    "[S] [R] [Z] [V] [G] [R] [Q] [N] [Z]\n",
    "[Q] [Q] [B] [D] [J] [W] [H] [R] [J]\n",
    " 1   2   3   4   5   6   7   8   9 \n",
    "\n",
    "```"
   ]
  },
  {
   "cell_type": "code",
   "execution_count": 12,
   "metadata": {},
   "outputs": [],
   "source": [
    "import re\n",
    "def parse_setup(fn: str, no_header_lines: int) -> list[list[str]]:\n",
    "    def parse_crates(stacks:list[list[str]], line: str, num_cols:int, col_size: int = 4):\n",
    "        # parse columns\n",
    "        for i in range(num_cols):\n",
    "            idx = i*col_size\n",
    "            substr = line[idx:idx+col_size]\n",
    "            match = re.search(r\"\\[(\\w)\\]\", substr)\n",
    "            if match is not None:\n",
    "                crate = match.group(1)\n",
    "                stacks[i].append(crate)\n",
    "\n",
    "    with open(fn, 'r') as f:\n",
    "        input = f.readlines()\n",
    "    # header only\n",
    "    num_cols = len(input[no_header_lines].split())\n",
    "    input = input[:no_header_lines]\n",
    "    # create stacks\n",
    "    stacks = [ list() for _ in range(num_cols)]\n",
    "\n",
    "    for line in input:\n",
    "        parse_crates(stacks, line, num_cols)        \n",
    "    # reverse stacks\n",
    "    for stack in stacks:\n",
    "        stack = stack.reverse()\n",
    "    return stacks\n"
   ]
  },
  {
   "cell_type": "code",
   "execution_count": 13,
   "metadata": {},
   "outputs": [],
   "source": [
    "len_header = 8"
   ]
  },
  {
   "cell_type": "code",
   "execution_count": 14,
   "metadata": {},
   "outputs": [
    {
     "data": {
      "text/plain": [
       "[['Q', 'S', 'W', 'C', 'Z', 'V', 'F', 'T'],\n",
       " ['Q', 'R', 'B'],\n",
       " ['B', 'Z', 'T', 'Q', 'P', 'M', 'S'],\n",
       " ['D', 'V', 'F', 'R', 'Q', 'H'],\n",
       " ['J', 'G', 'L', 'D', 'B', 'S', 'T', 'P'],\n",
       " ['W', 'R', 'T', 'Z'],\n",
       " ['H', 'Q', 'M', 'N', 'S', 'F', 'R', 'J'],\n",
       " ['R', 'N', 'F', 'H', 'W'],\n",
       " ['J', 'Z', 'T', 'Q', 'P', 'R', 'B']]"
      ]
     },
     "execution_count": 14,
     "metadata": {},
     "output_type": "execute_result"
    }
   ],
   "source": [
    "stacks = parse_setup(\"./input_day05.txt\",len_header)\n",
    "stacks"
   ]
  },
  {
   "cell_type": "code",
   "execution_count": 15,
   "metadata": {},
   "outputs": [
    {
     "name": "stdout",
     "output_type": "stream",
     "text": [
      "[T]             [P]     [J]        \n",
      "[F]     [S]     [T]     [R]     [B]\n",
      "[V]     [M] [H] [S]     [F]     [R]\n",
      "[Z]     [P] [Q] [B]     [S] [W] [P]\n",
      "[C]     [Q] [R] [D] [Z] [N] [H] [Q]\n",
      "[W] [B] [T] [F] [L] [T] [M] [F] [T]\n",
      "[S] [R] [Z] [V] [G] [R] [Q] [N] [Z]\n",
      "[Q] [Q] [B] [D] [J] [W] [H] [R] [J]\n",
      " 1   2   3   4   5   6   7   8   9 \n"
     ]
    }
   ],
   "source": [
    "print_stacks(stacks)"
   ]
  },
  {
   "cell_type": "code",
   "execution_count": 16,
   "metadata": {},
   "outputs": [
    {
     "data": {
      "text/plain": [
       "[(3, 8, 2), (3, 1, 5), (3, 1, 4)]"
      ]
     },
     "execution_count": 16,
     "metadata": {},
     "output_type": "execute_result"
    }
   ],
   "source": [
    "moves = parse_movements(\"./input_day05.txt\",len_header+2) # header + empty lines\n",
    "moves[:3]"
   ]
  },
  {
   "cell_type": "code",
   "execution_count": 17,
   "metadata": {},
   "outputs": [
    {
     "name": "stdout",
     "output_type": "stream",
     "text": [
      "                        [W]        \n",
      "                        [P]        \n",
      "                        [S]        \n",
      "                        [D]        \n",
      "                        [V]        \n",
      "                        [R]        \n",
      "                        [Q]        \n",
      "                        [M]        \n",
      "                        [Q]        \n",
      "                        [F]        \n",
      "                        [Z]        \n",
      "                        [T]        \n",
      "                        [Z]        \n",
      "                        [D]        \n",
      "                        [Z]        \n",
      "                        [S]        \n",
      "                        [F]        \n",
      "                        [S]        \n",
      "        [L]             [J]        \n",
      "        [R]         [B] [N]        \n",
      "        [J]         [R] [S]        \n",
      "        [R]         [Q] [W]        \n",
      "        [G]         [J] [N]        \n",
      "        [T]     [H] [B] [T]        \n",
      "        [M]     [R] [H] [P]     [F]\n",
      "        [T] [V] [C] [B] [F]     [R]\n",
      "[B] [Z] [H] [T] [W] [Q] [Q] [Q] [P]\n",
      " 1   2   3   4   5   6   7   8   9 \n"
     ]
    }
   ],
   "source": [
    "for move in moves:\n",
    "    execute_move_fifo(stacks, move)\n",
    "print_stacks(stacks)"
   ]
  },
  {
   "cell_type": "code",
   "execution_count": 18,
   "metadata": {},
   "outputs": [
    {
     "data": {
      "text/plain": [
       "'BZLVHBWQF'"
      ]
     },
     "execution_count": 18,
     "metadata": {},
     "output_type": "execute_result"
    }
   ],
   "source": [
    "task1(stacks)"
   ]
  },
  {
   "cell_type": "markdown",
   "metadata": {},
   "source": [
    "## Part Two\n",
    "\n",
    "As you watch the crane operator expertly rearrange the crates, you notice the process isn't following your prediction.\n",
    "\n",
    "Some mud was covering the writing on the side of the crane, and you quickly wipe it away. The crane isn't a CrateMover 9000 - it's a _CrateMover 9001_.\n",
    "\n",
    "The CrateMover 9001 is notable for many new and exciting features: air conditioning, leather seats, an extra cup holder, and _the ability to pick up and move multiple crates at once_.\n",
    "\n",
    "Again considering the example above, the crates begin in the same configuration:\n",
    "\n",
    "```\n",
    "    [D]    \n",
    "[N] [C]    \n",
    "[Z] [M] [P]\n",
    " 1   2   3 \n",
    "```\n",
    "\n",
    "Moving a single crate from stack 2 to stack 1 behaves the same as before:\n",
    "\n",
    "```\n",
    "[D]        \n",
    "[N] [C]    \n",
    "[Z] [M] [P]\n",
    " 1   2   3 \n",
    "```\n",
    "\n",
    "However, the action of moving three crates from stack 1 to stack 3 means that those three moved crates _stay in the same order_, resulting in this new configuration:\n",
    "\n",
    "```\n",
    "        [D]\n",
    "        [N]\n",
    "    [C] [Z]\n",
    "    [M] [P]\n",
    " 1   2   3\n",
    "```\n",
    "\n",
    "Next, as both crates are moved from stack 2 to stack 1, they _retain their order_ as well:\n",
    "\n",
    "```\n",
    "        [D]\n",
    "        [N]\n",
    "[C]     [Z]\n",
    "[M]     [P]\n",
    " 1   2   3\n",
    "```\n",
    "\n",
    "Finally, a single crate is still moved from stack 1 to stack 2, but now it's crate `C` that gets moved:\n",
    "\n",
    "```\n",
    "        [D]\n",
    "        [N]\n",
    "        [Z]\n",
    "[M] [C] [P]\n",
    " 1   2   3\n",
    "```\n",
    "\n",
    "In this example, the CrateMover 9001 has put the crates in a totally different order: `_MCD_`.\n",
    "\n",
    "Before the rearrangement process finishes, update your simulation so that the Elves know where they should stand to be ready to unload the final supplies. _After the rearrangement procedure completes, what crate ends up on top of each stack?_"
   ]
  },
  {
   "cell_type": "code",
   "execution_count": 20,
   "metadata": {},
   "outputs": [],
   "source": [
    "def execute_move_lifo(stacks: list[list[str]], move: tuple[int,int,int]):\n",
    "    num, from_, to_ = move\n",
    "    # indices start at 1 so move -1\n",
    "    from_ -= 1\n",
    "    to_ -= 1\n",
    "    cache = []\n",
    "    # remove one after the other\n",
    "    for _ in range(num):\n",
    "        cache.append(stacks[from_].pop())\n",
    "    # LIFO\n",
    "    # add to new destination\n",
    "    for _ in range(len(cache)):\n",
    "        stacks[to_].append(cache.pop())\n",
    "    return"
   ]
  },
  {
   "cell_type": "code",
   "execution_count": 21,
   "metadata": {},
   "outputs": [
    {
     "name": "stdout",
     "output_type": "stream",
     "text": [
      "[T]             [P]     [J]        \n",
      "[F]     [S]     [T]     [R]     [B]\n",
      "[V]     [M] [H] [S]     [F]     [R]\n",
      "[Z]     [P] [Q] [B]     [S] [W] [P]\n",
      "[C]     [Q] [R] [D] [Z] [N] [H] [Q]\n",
      "[W] [B] [T] [F] [L] [T] [M] [F] [T]\n",
      "[S] [R] [Z] [V] [G] [R] [Q] [N] [Z]\n",
      "[Q] [Q] [B] [D] [J] [W] [H] [R] [J]\n",
      " 1   2   3   4   5   6   7   8   9 \n"
     ]
    }
   ],
   "source": [
    "stacks = parse_setup(\"./input_day05.txt\",len_header)\n",
    "moves = parse_movements(\"./input_day05.txt\",len_header+2) # header + empty lines\n",
    "print_stacks(stacks)"
   ]
  },
  {
   "cell_type": "code",
   "execution_count": 22,
   "metadata": {},
   "outputs": [
    {
     "name": "stdout",
     "output_type": "stream",
     "text": [
      "                        [Z]        \n",
      "                        [R]        \n",
      "                        [W]        \n",
      "                        [H]        \n",
      "                        [P]        \n",
      "                        [C]        \n",
      "                        [F]        \n",
      "                        [W]        \n",
      "                        [T]        \n",
      "                        [H]        \n",
      "                        [P]        \n",
      "                        [R]        \n",
      "                        [P]        \n",
      "                        [N]        \n",
      "                        [V]        \n",
      "                        [T]        \n",
      "                        [D]        \n",
      "                        [T]        \n",
      "        [G]             [Q]        \n",
      "        [S]         [T] [Q]        \n",
      "        [B]         [H] [S]        \n",
      "        [V]         [R] [Z]        \n",
      "        [R]         [Z] [J]        \n",
      "        [R]     [Q] [J] [F]        \n",
      "        [F]     [S] [B] [Q]     [L]\n",
      "        [N] [J] [M] [Q] [M]     [Z]\n",
      "[T] [D] [B] [R] [F] [W] [B] [S] [Q]\n",
      " 1   2   3   4   5   6   7   8   9 \n"
     ]
    }
   ],
   "source": [
    "for move in moves:\n",
    "    execute_move_lifo(stacks, move)\n",
    "print_stacks(stacks)"
   ]
  },
  {
   "cell_type": "code",
   "execution_count": 23,
   "metadata": {},
   "outputs": [
    {
     "data": {
      "text/plain": [
       "'TDGJQTZSL'"
      ]
     },
     "execution_count": 23,
     "metadata": {},
     "output_type": "execute_result"
    }
   ],
   "source": [
    "task1(stacks)"
   ]
  }
 ],
 "metadata": {
  "kernelspec": {
   "display_name": "Python 3.10.4 64-bit",
   "language": "python",
   "name": "python3"
  },
  "language_info": {
   "codemirror_mode": {
    "name": "ipython",
    "version": 3
   },
   "file_extension": ".py",
   "mimetype": "text/x-python",
   "name": "python",
   "nbconvert_exporter": "python",
   "pygments_lexer": "ipython3",
   "version": "3.10.4"
  },
  "orig_nbformat": 4,
  "vscode": {
   "interpreter": {
    "hash": "3ad933181bd8a04b432d3370b9dc3b0662ad032c4dfaa4e4f1596c548f763858"
   }
  }
 },
 "nbformat": 4,
 "nbformat_minor": 2
}
