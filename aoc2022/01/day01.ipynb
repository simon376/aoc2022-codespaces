{
 "cells": [
  {
   "cell_type": "markdown",
   "metadata": {},
   "source": [
    "--- Day 1: Calorie Counting ---\n",
    "Santa's reindeer typically eat regular reindeer food, but they need a lot of magical energy to deliver presents on Christmas. For that, their favorite snack is a special type of star fruit that only grows deep in the jungle. The Elves have brought you on their annual expedition to the grove where the fruit grows.\n",
    "\n",
    "To supply enough magical energy, the expedition needs to retrieve a minimum of fifty stars by December 25th. Although the Elves assure you that the grove has plenty of fruit, you decide to grab any fruit you see along the way, just in case.\n",
    "\n",
    "Collect stars by solving puzzles. Two puzzles will be made available on each day in the Advent calendar; the second puzzle is unlocked when you complete the first. Each puzzle grants one star. Good luck!\n",
    "\n",
    "The jungle must be too overgrown and difficult to navigate in vehicles or access from the air; the Elves' expedition traditionally goes on foot. As your boats approach land, the Elves begin taking inventory of their supplies. One important consideration is food - in particular, the number of Calories each Elf is carrying (your puzzle input)."
   ]
  },
  {
   "cell_type": "markdown",
   "metadata": {},
   "source": [
    "The Elves take turns writing down the number of Calories contained by the various meals, snacks, rations, etc. that they've brought with them, one item per line. Each Elf separates their own inventory from the previous Elf's inventory (if any) by a blank line.\n",
    "\n",
    "For example, suppose the Elves finish writing their items' Calories and end up with the following list:\n",
    "```\n",
    "1000\n",
    "2000\n",
    "3000\n",
    "\n",
    "4000\n",
    "\n",
    "5000\n",
    "6000\n",
    "\n",
    "7000\n",
    "8000\n",
    "9000\n",
    "\n",
    "10000\n",
    "```\n",
    "This list represents the Calories of the food carried by five Elves:\n",
    "\n",
    "The first Elf is carrying food with $1000$, $2000$, and $3000$ Calories, a total of $6000$ Calories.\n",
    "The second Elf is carrying one food item with $4000$ Calories.\n",
    "The third Elf is carrying food with $5000$ and $6000$ Calories, a total of $11000$ Calories.\n",
    "The fourth Elf is carrying food with $7000$, $8000$, and $9000$ Calories, a total of $24000$ Calories.\n",
    "The fifth Elf is carrying one food item with $10000$ Calories.\n",
    "In case the Elves get hungry and need extra snacks, they need to know which Elf to ask: they'd like to know how many Calories are being carried by the Elf carrying the most Calories. In the example above, this is $24000$ (carried by the fourth Elf).\n",
    "\n",
    "Find the Elf carrying the most Calories. How many total Calories is that Elf carrying?"
   ]
  },
  {
   "cell_type": "code",
   "execution_count": 1,
   "metadata": {},
   "outputs": [],
   "source": [
    "input = \"1000\\n2000\\n3000\\n\\n4000\\n\\n5000\\n6000\\n\\n7000\\n8000\\n9000\\n\\n10000\""
   ]
  },
  {
   "cell_type": "code",
   "execution_count": 17,
   "metadata": {},
   "outputs": [
    {
     "data": {
      "text/plain": [
       "'7769\\n6798\\n11685\\n10826\\n11807\\n5786\\n7932\\n\\n54883\\n\\n7069\\n5792\\n1519\\n7380\\n7034\\n6203\\n5706\\n1850\\n4933\\n5562\\n3826'"
      ]
     },
     "execution_count": 17,
     "metadata": {},
     "output_type": "execute_result"
    }
   ],
   "source": [
    "with open(\"./input_day01.txt\") as f:\n",
    "    input = f.read()\n",
    "    # drop last entry (\"\\n\")\n",
    "    input = input[:-1]\n",
    "input[:100]"
   ]
  },
  {
   "cell_type": "markdown",
   "metadata": {},
   "source": [
    "elfs are separated by empty line"
   ]
  },
  {
   "cell_type": "code",
   "execution_count": 20,
   "metadata": {},
   "outputs": [
    {
     "data": {
      "text/plain": [
       "['7769\\n6798\\n11685\\n10826\\n11807\\n5786\\n7932',\n",
       " '54883',\n",
       " '7069\\n5792\\n1519\\n7380\\n7034\\n6203\\n5706\\n1850\\n4933\\n5562\\n3826\\n6661',\n",
       " '9150\\n6417\\n5057\\n3568\\n9352\\n7134\\n6040\\n2451\\n2295',\n",
       " '10996\\n11802\\n5525\\n5705\\n8266\\n3742',\n",
       " '5140\\n5527\\n5686\\n2488\\n2518\\n6260\\n1692\\n3149\\n9109',\n",
       " '22590\\n17677\\n25444',\n",
       " '4146\\n2282\\n1957\\n3673\\n4830\\n3220\\n3823\\n4619\\n3222\\n4076\\n4594\\n4550\\n4806',\n",
       " '1426\\n2726\\n3566\\n4089\\n2195\\n1512\\n2547\\n2284\\n5687\\n7429\\n1043',\n",
       " '7877\\n7446\\n9753\\n3184\\n5417\\n2306\\n1680\\n7121']"
      ]
     },
     "execution_count": 20,
     "metadata": {},
     "output_type": "execute_result"
    }
   ],
   "source": [
    "input_by_elf = input.split(\"\\n\\n\")\n",
    "input_by_elf[:10]"
   ]
  },
  {
   "cell_type": "markdown",
   "metadata": {},
   "source": [
    "in case we need the key later (we don't)"
   ]
  },
  {
   "cell_type": "code",
   "execution_count": 21,
   "metadata": {},
   "outputs": [
    {
     "data": {
      "text/plain": [
       "{0: 62603,\n",
       " 1: 54883,\n",
       " 2: 63535,\n",
       " 3: 51464,\n",
       " 4: 46036,\n",
       " 5: 41569,\n",
       " 6: 65711,\n",
       " 7: 49798,\n",
       " 8: 34504,\n",
       " 9: 44784,\n",
       " 10: 47371,\n",
       " 11: 39766,\n",
       " 12: 21123,\n",
       " 13: 38880,\n",
       " 14: 55039,\n",
       " 15: 57514,\n",
       " 16: 43956,\n",
       " 17: 57288,\n",
       " 18: 48837,\n",
       " 19: 47369,\n",
       " 20: 60075,\n",
       " 21: 32484,\n",
       " 22: 2007,\n",
       " 23: 41645,\n",
       " 24: 63299,\n",
       " 25: 41831,\n",
       " 26: 37448,\n",
       " 27: 55607,\n",
       " 28: 40908,\n",
       " 29: 42455,\n",
       " 30: 50442,\n",
       " 31: 59684,\n",
       " 32: 20668,\n",
       " 33: 55787,\n",
       " 34: 71780,\n",
       " 35: 35940,\n",
       " 36: 65511,\n",
       " 37: 54418,\n",
       " 38: 56006,\n",
       " 39: 46815,\n",
       " 40: 55091,\n",
       " 41: 44516,\n",
       " 42: 33268,\n",
       " 43: 56287,\n",
       " 44: 49819,\n",
       " 45: 52730,\n",
       " 46: 66512,\n",
       " 47: 50691,\n",
       " 48: 29514,\n",
       " 49: 53233,\n",
       " 50: 46904,\n",
       " 51: 48547,\n",
       " 52: 50888,\n",
       " 53: 55414,\n",
       " 54: 48262,\n",
       " 55: 47055,\n",
       " 56: 39856,\n",
       " 57: 38198,\n",
       " 58: 59146,\n",
       " 59: 55440,\n",
       " 60: 21192,\n",
       " 61: 46048,\n",
       " 62: 52699,\n",
       " 63: 43181,\n",
       " 64: 30799,\n",
       " 65: 58947,\n",
       " 66: 45977,\n",
       " 67: 47169,\n",
       " 68: 49808,\n",
       " 69: 48680,\n",
       " 70: 35464,\n",
       " 71: 57216,\n",
       " 72: 48486,\n",
       " 73: 51632,\n",
       " 74: 34272,\n",
       " 75: 69228,\n",
       " 76: 15978,\n",
       " 77: 42485,\n",
       " 78: 62302,\n",
       " 79: 17772,\n",
       " 80: 49345,\n",
       " 81: 66023,\n",
       " 82: 41922,\n",
       " 83: 62186,\n",
       " 84: 40352,\n",
       " 85: 44064,\n",
       " 86: 54180,\n",
       " 87: 34451,\n",
       " 88: 29619,\n",
       " 89: 51573,\n",
       " 90: 58411,\n",
       " 91: 46928,\n",
       " 92: 54447,\n",
       " 93: 48050,\n",
       " 94: 47608,\n",
       " 95: 52532,\n",
       " 96: 44144,\n",
       " 97: 53182,\n",
       " 98: 57294,\n",
       " 99: 41316,\n",
       " 100: 48713,\n",
       " 101: 32537,\n",
       " 102: 36331,\n",
       " 103: 51428,\n",
       " 104: 51814,\n",
       " 105: 40758,\n",
       " 106: 52798,\n",
       " 107: 50357,\n",
       " 108: 34202,\n",
       " 109: 50423,\n",
       " 110: 46431,\n",
       " 111: 42348,\n",
       " 112: 45983,\n",
       " 113: 36624,\n",
       " 114: 48507,\n",
       " 115: 46053,\n",
       " 116: 18772,\n",
       " 117: 49968,\n",
       " 118: 48724,\n",
       " 119: 7379,\n",
       " 120: 35263,\n",
       " 121: 68704,\n",
       " 122: 51160,\n",
       " 123: 46763,\n",
       " 124: 24167,\n",
       " 125: 55744,\n",
       " 126: 12639,\n",
       " 127: 50039,\n",
       " 128: 52905,\n",
       " 129: 26600,\n",
       " 130: 44288,\n",
       " 131: 43160,\n",
       " 132: 41710,\n",
       " 133: 57618,\n",
       " 134: 42794,\n",
       " 135: 41722,\n",
       " 136: 41036,\n",
       " 137: 54213,\n",
       " 138: 39897,\n",
       " 139: 48939,\n",
       " 140: 49181,\n",
       " 141: 39172,\n",
       " 142: 46203,\n",
       " 143: 48058,\n",
       " 144: 24612,\n",
       " 145: 43641,\n",
       " 146: 43901,\n",
       " 147: 55331,\n",
       " 148: 68474,\n",
       " 149: 22069,\n",
       " 150: 49414,\n",
       " 151: 65553,\n",
       " 152: 50557,\n",
       " 153: 51123,\n",
       " 154: 43701,\n",
       " 155: 48028,\n",
       " 156: 64819,\n",
       " 157: 56837,\n",
       " 158: 68254,\n",
       " 159: 51464,\n",
       " 160: 35191,\n",
       " 161: 54076,\n",
       " 162: 57147,\n",
       " 163: 38074,\n",
       " 164: 43956,\n",
       " 165: 52987,\n",
       " 166: 48928,\n",
       " 167: 34425,\n",
       " 168: 53164,\n",
       " 169: 44666,\n",
       " 170: 33290,\n",
       " 171: 23143,\n",
       " 172: 56937,\n",
       " 173: 42247,\n",
       " 174: 39277,\n",
       " 175: 46425,\n",
       " 176: 36029,\n",
       " 177: 56544,\n",
       " 178: 34495,\n",
       " 179: 44002,\n",
       " 180: 59155,\n",
       " 181: 41629,\n",
       " 182: 50542,\n",
       " 183: 59227,\n",
       " 184: 51344,\n",
       " 185: 48688,\n",
       " 186: 58698,\n",
       " 187: 48916,\n",
       " 188: 42939,\n",
       " 189: 52204,\n",
       " 190: 41352,\n",
       " 191: 44583,\n",
       " 192: 5832,\n",
       " 193: 29190,\n",
       " 194: 56780,\n",
       " 195: 48216,\n",
       " 196: 48621,\n",
       " 197: 50049,\n",
       " 198: 42100,\n",
       " 199: 39681,\n",
       " 200: 46972,\n",
       " 201: 58112,\n",
       " 202: 36860,\n",
       " 203: 59200,\n",
       " 204: 38223,\n",
       " 205: 37451,\n",
       " 206: 53982,\n",
       " 207: 51278,\n",
       " 208: 54970,\n",
       " 209: 57584,\n",
       " 210: 45949,\n",
       " 211: 25704,\n",
       " 212: 53829,\n",
       " 213: 49481,\n",
       " 214: 43584,\n",
       " 215: 45011,\n",
       " 216: 51968,\n",
       " 217: 41182,\n",
       " 218: 40778,\n",
       " 219: 44676,\n",
       " 220: 53542,\n",
       " 221: 56914,\n",
       " 222: 38300,\n",
       " 223: 44837,\n",
       " 224: 71481,\n",
       " 225: 43967,\n",
       " 226: 32671,\n",
       " 227: 50565,\n",
       " 228: 46470,\n",
       " 229: 47710,\n",
       " 230: 55249,\n",
       " 231: 46711,\n",
       " 232: 42177,\n",
       " 233: 49239,\n",
       " 234: 53461,\n",
       " 235: 53283,\n",
       " 236: 45727,\n",
       " 237: 57332,\n",
       " 238: 43323,\n",
       " 239: 32784,\n",
       " 240: 52989,\n",
       " 241: 43047,\n",
       " 242: 45931,\n",
       " 243: 35241,\n",
       " 244: 11047,\n",
       " 245: 42585,\n",
       " 246: 54645,\n",
       " 247: 9068,\n",
       " 248: 51850,\n",
       " 249: 49515,\n",
       " 250: 39393,\n",
       " 251: 36713,\n",
       " 252: 52795,\n",
       " 253: 45708}"
      ]
     },
     "execution_count": 21,
     "metadata": {},
     "output_type": "execute_result"
    }
   ],
   "source": [
    "numerical_input_by_elf = {}\n",
    "for idx, e in enumerate(input_by_elf):\n",
    "    sep = e.split(\"\\n\")\n",
    "    sep = [int(i) for i in sep]\n",
    "    sum_ = sum(sep)\n",
    "    numerical_input_by_elf[idx] = sum_\n",
    "numerical_input_by_elf"
   ]
  },
  {
   "cell_type": "code",
   "execution_count": 24,
   "metadata": {},
   "outputs": [
    {
     "name": "stdout",
     "output_type": "stream",
     "text": [
      "key: 34 value:  71780\n"
     ]
    }
   ],
   "source": [
    "max_key = max(numerical_input_by_elf, key= lambda k: numerical_input_by_elf[k])\n",
    "print(\"key:\", max_key, \"value: \", numerical_input_by_elf[max_key])"
   ]
  },
  {
   "cell_type": "markdown",
   "metadata": {},
   "source": [
    "--- Part Two ---\n",
    "\n",
    "By the time you calculate the answer to the Elves' question, they've already realized that the Elf carrying the most Calories of food might eventually run out of snacks.\n",
    "\n",
    "To avoid this unacceptable situation, the Elves would instead like to know the total Calories carried by the top three Elves carrying the most Calories. That way, even if one of those Elves runs out of snacks, they still have two backups.\n",
    "\n",
    "In the example above, the top three Elves are the fourth Elf (with $24000$ Calories), then the third Elf (with $11000$ Calories), then the fifth Elf (with $10000$ Calories). The sum of the Calories carried by these three elves is $45000$.\n",
    "\n",
    "Find the top three Elves carrying the most Calories. How many Calories are those Elves carrying in total?\n",
    "\n"
   ]
  },
  {
   "cell_type": "markdown",
   "metadata": {},
   "source": [
    "sort dict by value, get top3 and sum it up"
   ]
  },
  {
   "cell_type": "code",
   "execution_count": 27,
   "metadata": {},
   "outputs": [
    {
     "data": {
      "text/plain": [
       "212489"
      ]
     },
     "execution_count": 27,
     "metadata": {},
     "output_type": "execute_result"
    }
   ],
   "source": [
    "top3_keys = sorted(numerical_input_by_elf, key=numerical_input_by_elf.get, reverse=True)[:3]\n",
    "top_three_sum = sum([numerical_input_by_elf[k] for k in top3_keys])\n",
    "top_three_sum"
   ]
  }
 ],
 "metadata": {
  "kernelspec": {
   "display_name": "Python 3.10.4 64-bit",
   "language": "python",
   "name": "python3"
  },
  "language_info": {
   "codemirror_mode": {
    "name": "ipython",
    "version": 3
   },
   "file_extension": ".py",
   "mimetype": "text/x-python",
   "name": "python",
   "nbconvert_exporter": "python",
   "pygments_lexer": "ipython3",
   "version": "3.10.4"
  },
  "orig_nbformat": 4,
  "vscode": {
   "interpreter": {
    "hash": "3ad933181bd8a04b432d3370b9dc3b0662ad032c4dfaa4e4f1596c548f763858"
   }
  }
 },
 "nbformat": 4,
 "nbformat_minor": 2
}
