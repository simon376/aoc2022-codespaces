{
 "cells": [
  {
   "cell_type": "markdown",
   "metadata": {},
   "source": [
    "# Day 2: Rock Paper Scissors\n",
    "## Part One\n",
    "\n",
    "The Elves begin to set up camp on the beach. To decide whose tent gets to be closest to the snack storage, a giant Rock Paper Scissors tournament is already in progress.\n",
    "\n",
    "Rock Paper Scissors is a game between two players. Each game contains many rounds; in each round, the players each simultaneously choose one of **Rock, Paper, or Scissors** using a hand shape. Then, a winner for that round is selected: Rock defeats Scissors, Scissors defeats Paper, and Paper defeats Rock. If both players choose the same shape, the round instead ends in a draw.\n",
    "\n",
    "Appreciative of your help yesterday, one Elf gives you an **encrypted strategy guide** (your puzzle input) that they say will be sure to help you win. \"The first column is what your opponent is going to play: $A$ for Rock, $B$ for Paper, and $C$ for Scissors. The second column--\" Suddenly, the Elf is called away to help with someone's tent.\n",
    "\n",
    "The second column, you reason, must be what you should play in response: $X$ for Rock, $Y$ for Paper, and $Z$ for Scissors. Winning every time would be suspicious, so the responses must have been carefully chosen.\n",
    "\n",
    "The winner of the whole tournament is the player with the highest score. Your **total score** is the sum of your scores for each round. The score for a single round is the score for the shape you selected ($1$ for Rock, $2$ for Paper, and $3$ for Scissors) plus the score for the outcome of the round ($0$ if you lost, $3$ if the round was a draw, and $6$ if you won).\n",
    "\n",
    "Since you can't be sure if the Elf is trying to help you or trick you, you should calculate the score you would get if you were to follow the strategy guide.\n",
    "\n",
    "For example, suppose you were given the following strategy guide:\n",
    "```\n",
    "A Y\n",
    "B X\n",
    "C Z\n",
    "```\n",
    "This strategy guide predicts and recommends the following:\n",
    "\n",
    "In the first round, your opponent will choose Rock (A), and you should choose Paper (Y). This ends in a win for you with a score of $8$ (2 because you chose Paper + 6 because you won).\n",
    "In the second round, your opponent will choose Paper (B), and you should choose Rock (X). This ends in a loss for you with a score of $1$ (1 + 0).\n",
    "The third round is a draw with both players choosing Scissors, giving you a score of 3 + 3 = $6$.\n",
    "In this example, if you were to follow the strategy guide, you would get a total score of $15$ (8 + 1 + 6).\n",
    "\n",
    "What would your total score be if everything goes exactly according to your strategy guide?\n",
    "\n"
   ]
  },
  {
   "cell_type": "code",
   "execution_count": 5,
   "metadata": {},
   "outputs": [
    {
     "name": "stdout",
     "output_type": "stream",
     "text": [
      "['C Z', 'C Z', 'A X', 'A X', 'B Z', 'B Z', 'B Z', 'A Z', 'B X', 'A X']\n",
      "['C Z', 'C Y']\n"
     ]
    }
   ],
   "source": [
    "with open(\"./input_day02.txt\") as f:\n",
    "    input = f.read().splitlines()\n",
    "print(input[:10])\n",
    "print(input[-2:])"
   ]
  },
  {
   "cell_type": "code",
   "execution_count": 6,
   "metadata": {},
   "outputs": [],
   "source": [
    "inputs = {\n",
    "    \"A\": \"Rock\",\n",
    "    \"X\": \"Rock\",\n",
    "    \"B\": \"Paper\",\n",
    "    \"Y\": \"Paper\",\n",
    "    \"C\": \"Scissors\",\n",
    "    \"Z\": \"Scissors\",\n",
    "    # \"Rock\": [\"A\", \"X\"],\n",
    "    # \"Paper\": [\"B\", \"Y\"],\n",
    "    # \"Scissors\": [\"C\", \"Z\"]\n",
    "}\n"
   ]
  },
  {
   "cell_type": "code",
   "execution_count": 13,
   "metadata": {},
   "outputs": [],
   "source": [
    "def evaluate(v_a: str,v_b: str):\n",
    "    input_score = {\n",
    "        \"Rock\": 1,\n",
    "        \"Paper\": 2,\n",
    "        \"Scissors\": 3\n",
    "    }\n",
    "    score = 0\n",
    "    score += input_score[v_b]\n",
    "    \n",
    "    match v_a:\n",
    "        case \"Rock\":\n",
    "            match v_b:\n",
    "                case \"Rock\":\n",
    "                    score += 3\n",
    "                case \"Paper\":\n",
    "                    score += 6\n",
    "                case \"Scissors\":\n",
    "                    score += 0\n",
    "        case \"Paper\":\n",
    "            match v_b:\n",
    "                case \"Rock\":\n",
    "                    score += 0\n",
    "                case \"Paper\":\n",
    "                    score += 3\n",
    "                case \"Scissors\":\n",
    "                    score += 6\n",
    "        case \"Scissors\":\n",
    "            match v_b:\n",
    "                case \"Rock\":\n",
    "                    score += 6\n",
    "                case \"Paper\":\n",
    "                    score += 0\n",
    "                case \"Scissors\":\n",
    "                    score += 3\n",
    "    return score"
   ]
  },
  {
   "cell_type": "code",
   "execution_count": 14,
   "metadata": {},
   "outputs": [],
   "source": [
    "test_input = [\"A Y\", \"B X\", \"C Z\"]"
   ]
  },
  {
   "cell_type": "code",
   "execution_count": 15,
   "metadata": {},
   "outputs": [],
   "source": [
    "def parse_input(input: str):\n",
    "    splitted = input.split(\" \")\n",
    "    val_a, val_b = inputs[splitted[0]], inputs[splitted[1]]\n",
    "    return val_a, val_b"
   ]
  },
  {
   "cell_type": "code",
   "execution_count": 16,
   "metadata": {},
   "outputs": [
    {
     "name": "stdout",
     "output_type": "stream",
     "text": [
      "Rock Paper\n",
      "8\n",
      "Paper Rock\n",
      "1\n",
      "Scissors Scissors\n",
      "6\n",
      "15\n"
     ]
    }
   ],
   "source": [
    "total_sum = 0\n",
    "for i in test_input:\n",
    "    a,b = parse_input(i)\n",
    "    print(a,b)\n",
    "    ret = evaluate(a,b)\n",
    "    print(ret)\n",
    "    total_sum += ret\n",
    "print(total_sum)\n",
    "    "
   ]
  },
  {
   "cell_type": "code",
   "execution_count": 17,
   "metadata": {},
   "outputs": [
    {
     "name": "stdout",
     "output_type": "stream",
     "text": [
      "14264\n"
     ]
    }
   ],
   "source": [
    "total_sum = 0\n",
    "for i in input:\n",
    "    a,b = parse_input(i)\n",
    "    # print(a,b)\n",
    "    ret = evaluate(a,b)\n",
    "    # print(ret)\n",
    "    total_sum += ret\n",
    "print(total_sum)\n",
    "    "
   ]
  },
  {
   "cell_type": "markdown",
   "metadata": {},
   "source": [
    "## Part Two\n",
    "\n",
    "\n",
    "The Elf finishes helping with the tent and sneaks back over to you. \"Anyway, the second column says how the round needs to end: $X$ means you need to lose, $Y$ means you need to end the round in a draw, and $Z$ means you need to win. Good luck!\"\n",
    "\n",
    "The total score is still calculated in the same way, but now you need to figure out what shape to choose so the round ends as indicated. The example above now goes like this:\n",
    "\n",
    "In the first round, your opponent will choose Rock (A), and you need the round to end in a draw (Y), so you also choose Rock. This gives you a score of 1 + 3 = $4$.\n",
    "In the second round, your opponent will choose Paper (B), and you choose Rock so you lose (X) with a score of 1 + 0 = $1$.\n",
    "In the third round, you will defeat your opponent's Scissors with Rock for a score of 1 + 6 = $7$.\n",
    "Now that you're correctly decrypting the ultra top secret strategy guide, you would get a total score of $12$.\n",
    "\n",
    "Following the Elf's instructions for the second column, **what would your total score be if everything goes exactly according to your strategy guide?**\n",
    "\n"
   ]
  },
  {
   "cell_type": "code",
   "execution_count": 27,
   "metadata": {},
   "outputs": [],
   "source": [
    "lookup_table= {\n",
    "    \"Rock\": {\n",
    "        \"win\": \"Paper\",\n",
    "        \"draw\": \"Rock\",\n",
    "        \"lose\": \"Scissors\"\n",
    "    },\n",
    "    \"Paper\": {\n",
    "        \"win\": \"Scissors\",\n",
    "        \"draw\": \"Paper\",\n",
    "        \"lose\": \"Rock\"\n",
    "    },\n",
    "    \"Scissors\": {\n",
    "        \"win\": \"Rock\",\n",
    "        \"draw\": \"Scissors\",\n",
    "        \"lose\": \"Paper\"\n",
    "    },\n",
    "}"
   ]
  },
  {
   "cell_type": "code",
   "execution_count": 28,
   "metadata": {},
   "outputs": [],
   "source": [
    "def parse_input_v2(input: str):\n",
    "    inputs_v2 = {\n",
    "    \"A\": \"Rock\",\n",
    "    \"X\": \"lose\",\n",
    "    \"B\": \"Paper\",\n",
    "    \"Y\": \"draw\",\n",
    "    \"C\": \"Scissors\",\n",
    "    \"Z\": \"win\",\n",
    "    # \"Rock\": [\"A\", \"X\"],\n",
    "    # \"Paper\": [\"B\", \"Y\"],\n",
    "    # \"Scissors\": [\"C\", \"Z\"]\n",
    "    }\n",
    "\n",
    "    splitted = input.split(\" \")\n",
    "    val_a, val_b = inputs_v2[splitted[0]], inputs_v2[splitted[1]]\n",
    "    return val_a, val_b"
   ]
  },
  {
   "cell_type": "code",
   "execution_count": 36,
   "metadata": {},
   "outputs": [],
   "source": [
    "def eval_2(a: str, b:str, print_out=False):\n",
    "    input = a\n",
    "    goal = b\n",
    "    output = lookup_table[input][goal]\n",
    "    if print_out:\n",
    "        print(output)\n",
    "    output_score = {\n",
    "        \"Rock\": 1,\n",
    "        \"Paper\": 2,\n",
    "        \"Scissors\": 3,\n",
    "        \"win\": 6,\n",
    "        \"draw\": 3,\n",
    "        \"lose\": 0,\n",
    "    }\n",
    "    score = 0\n",
    "    score += output_score[output]\n",
    "    score += output_score[goal]\n",
    "    return score\n"
   ]
  },
  {
   "cell_type": "code",
   "execution_count": 37,
   "metadata": {},
   "outputs": [
    {
     "name": "stdout",
     "output_type": "stream",
     "text": [
      "Rock draw\n",
      "Rock\n",
      "4\n",
      "Paper lose\n",
      "Rock\n",
      "1\n",
      "Scissors win\n",
      "Rock\n",
      "7\n",
      "12\n"
     ]
    }
   ],
   "source": [
    "total_sum = 0\n",
    "for i in test_input:\n",
    "    a,b = parse_input_v2(i)\n",
    "    # rock, paper\n",
    "    print(a,b)\n",
    "    ret = eval_2(a,b, print_out=True)\n",
    "    print(ret)\n",
    "    total_sum += ret\n",
    "print(total_sum)\n",
    "    "
   ]
  },
  {
   "cell_type": "code",
   "execution_count": 38,
   "metadata": {},
   "outputs": [
    {
     "name": "stdout",
     "output_type": "stream",
     "text": [
      "12382\n"
     ]
    }
   ],
   "source": [
    "total_sum = 0\n",
    "for i in input:\n",
    "    a,b = parse_input_v2(i)\n",
    "    # print(a,b)\n",
    "    ret = eval_2(a,b)\n",
    "    # print(ret)\n",
    "    total_sum += ret\n",
    "print(total_sum)\n",
    "    "
   ]
  },
  {
   "cell_type": "code",
   "execution_count": null,
   "metadata": {},
   "outputs": [],
   "source": []
  }
 ],
 "metadata": {
  "kernelspec": {
   "display_name": "Python 3.10.4 64-bit",
   "language": "python",
   "name": "python3"
  },
  "language_info": {
   "codemirror_mode": {
    "name": "ipython",
    "version": 3
   },
   "file_extension": ".py",
   "mimetype": "text/x-python",
   "name": "python",
   "nbconvert_exporter": "python",
   "pygments_lexer": "ipython3",
   "version": "3.10.4"
  },
  "orig_nbformat": 4,
  "vscode": {
   "interpreter": {
    "hash": "3ad933181bd8a04b432d3370b9dc3b0662ad032c4dfaa4e4f1596c548f763858"
   }
  }
 },
 "nbformat": 4,
 "nbformat_minor": 2
}
